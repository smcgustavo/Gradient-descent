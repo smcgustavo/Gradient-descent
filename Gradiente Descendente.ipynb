{
 "cells": [
  {
   "cell_type": "code",
   "execution_count": 121,
   "metadata": {},
   "outputs": [],
   "source": [
    "import numpy as np\n",
    "import pandas as pd\n",
    "import seaborn as sns\n",
    "import matplotlib.pyplot as plt"
   ]
  },
  {
   "cell_type": "code",
   "execution_count": 81,
   "metadata": {},
   "outputs": [],
   "source": [
    "casas = pd.read_csv(\"houses_to_rent.csv\")"
   ]
  },
  {
   "cell_type": "code",
   "execution_count": 82,
   "metadata": {},
   "outputs": [
    {
     "data": {
      "text/html": [
       "<div>\n",
       "<style scoped>\n",
       "    .dataframe tbody tr th:only-of-type {\n",
       "        vertical-align: middle;\n",
       "    }\n",
       "\n",
       "    .dataframe tbody tr th {\n",
       "        vertical-align: top;\n",
       "    }\n",
       "\n",
       "    .dataframe thead th {\n",
       "        text-align: right;\n",
       "    }\n",
       "</style>\n",
       "<table border=\"1\" class=\"dataframe\">\n",
       "  <thead>\n",
       "    <tr style=\"text-align: right;\">\n",
       "      <th></th>\n",
       "      <th>Unnamed: 0</th>\n",
       "      <th>city</th>\n",
       "      <th>area</th>\n",
       "      <th>rooms</th>\n",
       "      <th>bathroom</th>\n",
       "      <th>parking spaces</th>\n",
       "      <th>floor</th>\n",
       "      <th>animal</th>\n",
       "      <th>furniture</th>\n",
       "      <th>hoa</th>\n",
       "      <th>rent_amount</th>\n",
       "      <th>property_tax</th>\n",
       "      <th>fire_insurance</th>\n",
       "      <th>total</th>\n",
       "    </tr>\n",
       "  </thead>\n",
       "  <tbody>\n",
       "    <tr>\n",
       "      <th>0</th>\n",
       "      <td>0</td>\n",
       "      <td>1</td>\n",
       "      <td>240</td>\n",
       "      <td>3</td>\n",
       "      <td>3</td>\n",
       "      <td>4</td>\n",
       "      <td>-</td>\n",
       "      <td>acept</td>\n",
       "      <td>furnished</td>\n",
       "      <td>0</td>\n",
       "      <td>8,000</td>\n",
       "      <td>1,000</td>\n",
       "      <td>121</td>\n",
       "      <td>9.121</td>\n",
       "    </tr>\n",
       "    <tr>\n",
       "      <th>1</th>\n",
       "      <td>1</td>\n",
       "      <td>0</td>\n",
       "      <td>64</td>\n",
       "      <td>2</td>\n",
       "      <td>1</td>\n",
       "      <td>1</td>\n",
       "      <td>10</td>\n",
       "      <td>acept</td>\n",
       "      <td>not furnished</td>\n",
       "      <td>540</td>\n",
       "      <td>820</td>\n",
       "      <td>122</td>\n",
       "      <td>11</td>\n",
       "      <td>1.493</td>\n",
       "    </tr>\n",
       "    <tr>\n",
       "      <th>2</th>\n",
       "      <td>2</td>\n",
       "      <td>1</td>\n",
       "      <td>443</td>\n",
       "      <td>5</td>\n",
       "      <td>5</td>\n",
       "      <td>4</td>\n",
       "      <td>3</td>\n",
       "      <td>acept</td>\n",
       "      <td>furnished</td>\n",
       "      <td>4,172</td>\n",
       "      <td>7,000</td>\n",
       "      <td>1,417</td>\n",
       "      <td>89</td>\n",
       "      <td>12.680</td>\n",
       "    </tr>\n",
       "    <tr>\n",
       "      <th>3</th>\n",
       "      <td>3</td>\n",
       "      <td>1</td>\n",
       "      <td>73</td>\n",
       "      <td>2</td>\n",
       "      <td>2</td>\n",
       "      <td>1</td>\n",
       "      <td>12</td>\n",
       "      <td>acept</td>\n",
       "      <td>not furnished</td>\n",
       "      <td>700</td>\n",
       "      <td>1,250</td>\n",
       "      <td>150</td>\n",
       "      <td>16</td>\n",
       "      <td>2.116</td>\n",
       "    </tr>\n",
       "    <tr>\n",
       "      <th>4</th>\n",
       "      <td>4</td>\n",
       "      <td>1</td>\n",
       "      <td>19</td>\n",
       "      <td>1</td>\n",
       "      <td>1</td>\n",
       "      <td>0</td>\n",
       "      <td>-</td>\n",
       "      <td>not acept</td>\n",
       "      <td>not furnished</td>\n",
       "      <td>0</td>\n",
       "      <td>1,200</td>\n",
       "      <td>41</td>\n",
       "      <td>16</td>\n",
       "      <td>1.257</td>\n",
       "    </tr>\n",
       "  </tbody>\n",
       "</table>\n",
       "</div>"
      ],
      "text/plain": [
       "   Unnamed: 0  city  area  rooms  bathroom  parking spaces floor     animal  \\\n",
       "0           0     1   240      3         3               4     -      acept   \n",
       "1           1     0    64      2         1               1    10      acept   \n",
       "2           2     1   443      5         5               4     3      acept   \n",
       "3           3     1    73      2         2               1    12      acept   \n",
       "4           4     1    19      1         1               0     -  not acept   \n",
       "\n",
       "       furniture    hoa rent_amount property_tax  fire_insurance   total  \n",
       "0      furnished      0       8,000        1,000             121   9.121  \n",
       "1  not furnished    540         820          122              11   1.493  \n",
       "2      furnished  4,172       7,000        1,417              89  12.680  \n",
       "3  not furnished    700       1,250          150              16   2.116  \n",
       "4  not furnished      0       1,200           41              16   1.257  "
      ]
     },
     "execution_count": 82,
     "metadata": {},
     "output_type": "execute_result"
    }
   ],
   "source": [
    "casas['total'] = casas['total'].apply(lambda x: float(x.replace(\",\",\".\")))\n",
    "casas.head(5)"
   ]
  },
  {
   "cell_type": "code",
   "execution_count": 83,
   "metadata": {},
   "outputs": [],
   "source": [
    "categorias = ['area', 'rooms', 'bathroom', 'parking spaces']\n",
    "matriz_x = np.array(casas[categorias], dtype= float)\n",
    "\n",
    "for x in range(0,4):\n",
    "    matriz_x.T[x] = (matriz_x.T[x] - matriz_x.T[x].min()) / (matriz_x.T[x].max() - matriz_x.T[x].min())\n",
    "\n",
    "resultado = casas['total']\n",
    "vetor_y = np.array(resultado)\n",
    "vetor_y = (vetor_y - vetor_y.min()) / (vetor_y.max() - vetor_y.min())"
   ]
  },
  {
   "cell_type": "code",
   "execution_count": 84,
   "metadata": {},
   "outputs": [
    {
     "data": {
      "text/plain": [
       "4"
      ]
     },
     "execution_count": 84,
     "metadata": {},
     "output_type": "execute_result"
    }
   ],
   "source": [
    "tamanho = matriz_x.shape[1]\n",
    "tamanho"
   ]
  },
  {
   "cell_type": "code",
   "execution_count": 85,
   "metadata": {},
   "outputs": [],
   "source": [
    "#tetas = np.random.randn(5)\n",
    "tetas = np.array([1,1,1,1,1],dtype=float)\n"
   ]
  },
  {
   "cell_type": "code",
   "execution_count": 86,
   "metadata": {},
   "outputs": [],
   "source": [
    "vetor_gradiente = np.zeros(shape = (4), dtype= float)\n",
    "vetor_gradiente += matriz_x[1]"
   ]
  },
  {
   "cell_type": "code",
   "execution_count": 87,
   "metadata": {},
   "outputs": [],
   "source": [
    "def hipotese(x, teta):\n",
    "    total = teta[4]\n",
    "    return total + x.dot(teta[:-1]).sum()"
   ]
  },
  {
   "cell_type": "code",
   "execution_count": 88,
   "metadata": {},
   "outputs": [],
   "source": [
    "def custo_total(x, teta, y):\n",
    "    custo_total = 0\n",
    "    for x_i,y_i in zip(x,y):\n",
    "        custo_total += (hipotese(x_i, teta) - y_i)** 2\n",
    "    return custo_total"
   ]
  },
  {
   "cell_type": "code",
   "execution_count": 92,
   "metadata": {},
   "outputs": [],
   "source": [
    "tetas = np.array([1,1,1,1,1], dtype=float)\n",
    "def gradiente (iteracoes, alpha, beta, x, y, teta):\n",
    "    #Calculando tamanhos de vetores\n",
    "    m = x.shape[0]\n",
    "    tetas_size = teta.shape[0]\n",
    "    vetor_gradiente = np.zeros(shape = tetas_size, dtype= float)\n",
    "    aux = 0\n",
    "    lista_x = []\n",
    "    lista_y = []\n",
    "    #valor para decrementar de alpha por iteracao:\n",
    "    beta = (alpha - beta) / iteracoes\n",
    "\n",
    "    #Loop com numero de iteracoes\n",
    "    for j in range(iteracoes):\n",
    "        #Loop por Teta\n",
    "        for t in range(tetas_size):\n",
    "            #Loop por numero de linhas do banco\n",
    "            vetor_gradiente[t] = 0\n",
    "            for i in range(m):\n",
    "                #calculando a função de custo de todos as linhas\n",
    "                aux = (hipotese(x[i], teta) - y[i]) * 2 / m\n",
    "                if t <= 3:\n",
    "                    #multiplicando pelo x(i)j quando disponível\n",
    "                    aux *= x[i][t]\n",
    "                vetor_gradiente[t] += aux\n",
    "            #atualizando o vetor de gradiente\n",
    "        teta = teta - (vetor_gradiente * alpha)\n",
    "        alpha -= beta\n",
    "        if j % 10 == 0:\n",
    "           lista_x.append(j + 1)\n",
    "           lista_y.append(custo_total(x,teta,y))\n",
    "    return lista_x,lista_y"
   ]
  },
  {
   "cell_type": "code",
   "execution_count": 93,
   "metadata": {},
   "outputs": [],
   "source": [
    "eixo_x, eixo_y = gradiente(iteracoes = 500, alpha = 0.7, beta = 0.1,x = matriz_x, y = vetor_y, teta = tetas)"
   ]
  },
  {
   "cell_type": "code",
   "execution_count": 151,
   "metadata": {},
   "outputs": [
    {
     "data": {
      "text/plain": [
       "[None]"
      ]
     },
     "execution_count": 151,
     "metadata": {},
     "output_type": "execute_result"
    },
    {
     "data": {
      "image/png": "[encoded data removed]",
      "text/plain": [
       "<Figure size 1080x1080 with 4 Axes>"
      ]
     },
     "metadata": {},
     "output_type": "display_data"
    }
   ],
   "source": [
    "dicionario = {\"Iteração\" : eixo_x, \"Custo Total\" : eixo_y}\n",
    "dados_grafico =pd.DataFrame(dicionario)\n",
    "dicionario2 = {\"Iteração\" : eixo_x[4:], \"Custo Total\" : eixo_y[4:]}\n",
    "dados_grafico2 = pd.DataFrame(dicionario2)\n",
    "sns.set()\n",
    "fig, axes = plt.subplots(2,2, figsize=(15,15))\n",
    "sns.scatterplot(data = dados_grafico, x=\"Iteração\", y=\"Custo Total\", ax=axes[0,0])\n",
    "sns.scatterplot(data = dados_grafico2, x=\"Iteração\", y=\"Custo Total\", ax=axes[0,1])\n",
    "sns.scatterplot(data = dados_grafico, x=\"Iteração\", y=\"Custo Total\", ax=axes[1,0]).set(yscale='log')\n",
    "sns.scatterplot(data = dados_grafico2, x=\"Iteração\", y=\"Custo Total\", ax=axes[1,1]).set(yscale='log')\n"
   ]
  },
  {
   "cell_type": "code",
   "execution_count": null,
   "metadata": {},
   "outputs": [],
   "source": []
  }
 ],
 "metadata": {
  "interpreter": {
   "hash": "32121e907fba9f133a089c5b0adb844dc05ee56be9f105f77bd14aed65e17b12"
  },
  "kernelspec": {
   "display_name": "Python 3.9.7 ('base')",
   "language": "python",
   "name": "python3"
  },
  "language_info": {
   "codemirror_mode": {
    "name": "ipython",
    "version": 3
   },
   "file_extension": ".py",
   "mimetype": "text/x-python",
   "name": "python",
   "nbconvert_exporter": "python",
   "pygments_lexer": "ipython3",
   "version": "3.9.7"
  },
  "orig_nbformat": 4
 },
 "nbformat": 4,
 "nbformat_minor": 2
}
